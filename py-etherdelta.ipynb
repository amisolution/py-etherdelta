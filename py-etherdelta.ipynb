{
 "cells": [
  {
   "cell_type": "code",
   "execution_count": null,
   "metadata": {},
   "outputs": [],
   "source": [
    "!pip list"
   ]
  },
  {
   "cell_type": "code",
   "execution_count": 30,
   "metadata": {},
   "outputs": [
    {
     "name": "stdout",
     "output_type": "stream",
     "text": [
      "Requirement already satisfied: etherdelta in /srv/conda/envs/notebook/lib/python3.7/site-packages (0.0.22)\n",
      "Requirement already satisfied: web3==4.0.0-beta.11 in /srv/conda/envs/notebook/lib/python3.7/site-packages (from etherdelta) (4.0.0b11)\n",
      "Requirement already satisfied: eth-utils==1.0.1 in /srv/conda/envs/notebook/lib/python3.7/site-packages (from etherdelta) (1.0.1)\n",
      "Requirement already satisfied: websocket-client==0.46.0 in /srv/conda/envs/notebook/lib/python3.7/site-packages (from etherdelta) (0.46.0)\n",
      "Requirement already satisfied: cytoolz<1.0.0,>=0.9.0 in /srv/conda/envs/notebook/lib/python3.7/site-packages (from web3==4.0.0-beta.11->etherdelta) (0.9.0.1)\n",
      "Requirement already satisfied: lru-dict<2.0.0,>=1.1.6 in /srv/conda/envs/notebook/lib/python3.7/site-packages (from web3==4.0.0-beta.11->etherdelta) (1.1.6)\n",
      "Requirement already satisfied: hexbytes<1.0.0,>=0.1.0 in /srv/conda/envs/notebook/lib/python3.7/site-packages (from web3==4.0.0-beta.11->etherdelta) (0.2.0)\n",
      "Requirement already satisfied: eth-hash[pycryptodome] in /srv/conda/envs/notebook/lib/python3.7/site-packages (from web3==4.0.0-beta.11->etherdelta) (0.2.0)\n",
      "Requirement already satisfied: eth-account<1.0.0,>=0.1.0-alpha.2 in /srv/conda/envs/notebook/lib/python3.7/site-packages (from web3==4.0.0-beta.11->etherdelta) (0.4.0)\n",
      "Requirement already satisfied: eth-abi<2,>=1.0.0 in /srv/conda/envs/notebook/lib/python3.7/site-packages (from web3==4.0.0-beta.11->etherdelta) (1.3.0)\n",
      "Requirement already satisfied: requests<3.0.0,>=2.16.0 in /srv/conda/envs/notebook/lib/python3.7/site-packages (from web3==4.0.0-beta.11->etherdelta) (2.22.0)\n",
      "Requirement already satisfied: six in /srv/conda/envs/notebook/lib/python3.7/site-packages (from websocket-client==0.46.0->etherdelta) (1.12.0)\n",
      "Requirement already satisfied: toolz>=0.8.0 in /srv/conda/envs/notebook/lib/python3.7/site-packages (from cytoolz<1.0.0,>=0.9.0->web3==4.0.0-beta.11->etherdelta) (0.9.0)\n",
      "Requirement already satisfied: pycryptodome<4,>=3.6.6; extra == \"pycryptodome\" in /srv/conda/envs/notebook/lib/python3.7/site-packages (from eth-hash[pycryptodome]->web3==4.0.0-beta.11->etherdelta) (3.8.2)\n",
      "Requirement already satisfied: eth-keyfile<0.6.0,>=0.5.0 in /srv/conda/envs/notebook/lib/python3.7/site-packages (from eth-account<1.0.0,>=0.1.0-alpha.2->web3==4.0.0-beta.11->etherdelta) (0.5.1)\n",
      "Requirement already satisfied: attrdict<3,>=2.0.0 in /srv/conda/envs/notebook/lib/python3.7/site-packages (from eth-account<1.0.0,>=0.1.0-alpha.2->web3==4.0.0-beta.11->etherdelta) (2.0.1)\n",
      "Requirement already satisfied: eth-rlp<1,>=0.1.2 in /srv/conda/envs/notebook/lib/python3.7/site-packages (from eth-account<1.0.0,>=0.1.0-alpha.2->web3==4.0.0-beta.11->etherdelta) (0.1.2)\n",
      "Requirement already satisfied: eth-keys<0.3.0,>=0.2.1 in /srv/conda/envs/notebook/lib/python3.7/site-packages (from eth-account<1.0.0,>=0.1.0-alpha.2->web3==4.0.0-beta.11->etherdelta) (0.2.4)\n",
      "Requirement already satisfied: rlp<2,>=1.0.0 in /srv/conda/envs/notebook/lib/python3.7/site-packages (from eth-account<1.0.0,>=0.1.0-alpha.2->web3==4.0.0-beta.11->etherdelta) (1.1.0)\n",
      "Requirement already satisfied: eth-typing<3.0.0,>=2.0.0 in /srv/conda/envs/notebook/lib/python3.7/site-packages (from eth-abi<2,>=1.0.0->web3==4.0.0-beta.11->etherdelta) (2.1.0)\n",
      "Requirement already satisfied: parsimonious<0.9.0,>=0.8.0 in /srv/conda/envs/notebook/lib/python3.7/site-packages (from eth-abi<2,>=1.0.0->web3==4.0.0-beta.11->etherdelta) (0.8.1)\n",
      "Requirement already satisfied: chardet<3.1.0,>=3.0.2 in /srv/conda/envs/notebook/lib/python3.7/site-packages (from requests<3.0.0,>=2.16.0->web3==4.0.0-beta.11->etherdelta) (3.0.4)\n",
      "Requirement already satisfied: certifi>=2017.4.17 in /srv/conda/envs/notebook/lib/python3.7/site-packages (from requests<3.0.0,>=2.16.0->web3==4.0.0-beta.11->etherdelta) (2019.3.9)\n",
      "Requirement already satisfied: idna<2.9,>=2.5 in /srv/conda/envs/notebook/lib/python3.7/site-packages (from requests<3.0.0,>=2.16.0->web3==4.0.0-beta.11->etherdelta) (2.8)\n",
      "Requirement already satisfied: urllib3!=1.25.0,!=1.25.1,<1.26,>=1.21.1 in /srv/conda/envs/notebook/lib/python3.7/site-packages (from requests<3.0.0,>=2.16.0->web3==4.0.0-beta.11->etherdelta) (1.25.3)\n",
      "Requirement already satisfied: eth_utils in /srv/conda/envs/notebook/lib/python3.7/site-packages (1.0.1)\n",
      "Requirement already satisfied: cytoolz<1.0.0,>=0.8.2 in /srv/conda/envs/notebook/lib/python3.7/site-packages (from eth_utils) (0.9.0.1)\n",
      "Requirement already satisfied: eth-hash<1.0.0,>=0.1.0 in /srv/conda/envs/notebook/lib/python3.7/site-packages (from eth_utils) (0.2.0)\n",
      "Requirement already satisfied: toolz>=0.8.0 in /srv/conda/envs/notebook/lib/python3.7/site-packages (from cytoolz<1.0.0,>=0.8.2->eth_utils) (0.9.0)\n",
      "Requirement already satisfied: eth_account in /srv/conda/envs/notebook/lib/python3.7/site-packages (0.4.0)\n",
      "Collecting eth-abi<3,>=2.0.0b7 (from eth_account)\n",
      "  Downloading https://files.pythonhosted.org/packages/ce/4f/9c1c764d1db61af8918f6a148d73ef615f6ab9b38ad90b5cfe6503aa943d/eth_abi-2.0.0b9-py3-none-any.whl\n",
      "Requirement already satisfied: eth-rlp<1,>=0.1.2 in /srv/conda/envs/notebook/lib/python3.7/site-packages (from eth_account) (0.1.2)\n",
      "Collecting eth-utils<2,>=1.3.0 (from eth_account)\n",
      "  Downloading https://files.pythonhosted.org/packages/f4/cd/2aa6cc8acd3837aafa4f0763213be4b48bae93f68b042decac9a07e58d65/eth_utils-1.6.1-py3-none-any.whl\n",
      "Requirement already satisfied: attrdict<3,>=2.0.0 in /srv/conda/envs/notebook/lib/python3.7/site-packages (from eth_account) (2.0.1)\n",
      "Requirement already satisfied: rlp<2,>=1.0.0 in /srv/conda/envs/notebook/lib/python3.7/site-packages (from eth_account) (1.1.0)\n",
      "Requirement already satisfied: eth-keyfile<0.6.0,>=0.5.0 in /srv/conda/envs/notebook/lib/python3.7/site-packages (from eth_account) (0.5.1)\n",
      "Requirement already satisfied: eth-keys<0.3.0,>=0.2.1 in /srv/conda/envs/notebook/lib/python3.7/site-packages (from eth_account) (0.2.4)\n",
      "Requirement already satisfied: hexbytes<1,>=0.1.0 in /srv/conda/envs/notebook/lib/python3.7/site-packages (from eth_account) (0.2.0)\n",
      "Requirement already satisfied: eth-typing<3.0.0,>=2.0.0 in /srv/conda/envs/notebook/lib/python3.7/site-packages (from eth-abi<3,>=2.0.0b7->eth_account) (2.1.0)\n",
      "Requirement already satisfied: parsimonious<0.9.0,>=0.8.0 in /srv/conda/envs/notebook/lib/python3.7/site-packages (from eth-abi<3,>=2.0.0b7->eth_account) (0.8.1)\n",
      "Requirement already satisfied: cytoolz<1.0.0,>=0.8.2; implementation_name == \"cpython\" in /srv/conda/envs/notebook/lib/python3.7/site-packages (from eth-utils<2,>=1.3.0->eth_account) (0.9.0.1)\n",
      "Requirement already satisfied: eth-hash<1.0.0,>=0.1.0 in /srv/conda/envs/notebook/lib/python3.7/site-packages (from eth-utils<2,>=1.3.0->eth_account) (0.2.0)\n",
      "Requirement already satisfied: six in /srv/conda/envs/notebook/lib/python3.7/site-packages (from attrdict<3,>=2.0.0->eth_account) (1.12.0)\n",
      "Requirement already satisfied: pycryptodome<4.0.0,>=3.4.7 in /srv/conda/envs/notebook/lib/python3.7/site-packages (from eth-keyfile<0.6.0,>=0.5.0->eth_account) (3.8.2)\n",
      "Requirement already satisfied: toolz>=0.8.0 in /srv/conda/envs/notebook/lib/python3.7/site-packages (from cytoolz<1.0.0,>=0.8.2; implementation_name == \"cpython\"->eth-utils<2,>=1.3.0->eth_account) (0.9.0)\n",
      "\u001b[31mERROR: web3 4.0.0b11 has requirement eth-abi<2,>=1.0.0, but you'll have eth-abi 2.0.0b9 which is incompatible.\u001b[0m\n",
      "\u001b[31mERROR: etherdelta 0.0.22 has requirement eth-utils==1.0.1, but you'll have eth-utils 1.6.1 which is incompatible.\u001b[0m\n",
      "Installing collected packages: eth-utils, eth-abi\n",
      "  Found existing installation: eth-utils 1.0.1\n",
      "    Uninstalling eth-utils-1.0.1:\n",
      "      Successfully uninstalled eth-utils-1.0.1\n",
      "  Found existing installation: eth-abi 1.3.0\n",
      "    Uninstalling eth-abi-1.3.0:\n",
      "      Successfully uninstalled eth-abi-1.3.0\n",
      "Successfully installed eth-abi-2.0.0b9 eth-utils-1.6.1\n",
      "Requirement already satisfied: eth_keys in /srv/conda/envs/notebook/lib/python3.7/site-packages (0.2.4)\n",
      "Requirement already satisfied: eth-utils<2.0.0,>=1.3.0 in /srv/conda/envs/notebook/lib/python3.7/site-packages (from eth_keys) (1.6.1)\n",
      "Requirement already satisfied: cytoolz<1.0.0,>=0.8.2; implementation_name == \"cpython\" in /srv/conda/envs/notebook/lib/python3.7/site-packages (from eth-utils<2.0.0,>=1.3.0->eth_keys) (0.9.0.1)\n",
      "Requirement already satisfied: eth-hash<1.0.0,>=0.1.0 in /srv/conda/envs/notebook/lib/python3.7/site-packages (from eth-utils<2.0.0,>=1.3.0->eth_keys) (0.2.0)\n"
     ]
    },
    {
     "name": "stdout",
     "output_type": "stream",
     "text": [
      "Requirement already satisfied: eth-typing<3.0.0,>=1.0.0 in /srv/conda/envs/notebook/lib/python3.7/site-packages (from eth-utils<2.0.0,>=1.3.0->eth_keys) (2.1.0)\n",
      "Requirement already satisfied: toolz>=0.8.0 in /srv/conda/envs/notebook/lib/python3.7/site-packages (from cytoolz<1.0.0,>=0.8.2; implementation_name == \"cpython\"->eth-utils<2.0.0,>=1.3.0->eth_keys) (0.9.0)\n",
      "Requirement already satisfied: eth_keyfile in /srv/conda/envs/notebook/lib/python3.7/site-packages (0.5.1)\n",
      "Requirement already satisfied: pycryptodome<4.0.0,>=3.4.7 in /srv/conda/envs/notebook/lib/python3.7/site-packages (from eth_keyfile) (3.8.2)\n",
      "Requirement already satisfied: cytoolz<1.0.0,>=0.9.0 in /srv/conda/envs/notebook/lib/python3.7/site-packages (from eth_keyfile) (0.9.0.1)\n",
      "Requirement already satisfied: eth-utils<2.0.0,>=1.0.0-beta.1 in /srv/conda/envs/notebook/lib/python3.7/site-packages (from eth_keyfile) (1.6.1)\n",
      "Requirement already satisfied: eth-keys<1.0.0,>=0.1.0-beta.4 in /srv/conda/envs/notebook/lib/python3.7/site-packages (from eth_keyfile) (0.2.4)\n",
      "Requirement already satisfied: toolz>=0.8.0 in /srv/conda/envs/notebook/lib/python3.7/site-packages (from cytoolz<1.0.0,>=0.9.0->eth_keyfile) (0.9.0)\n",
      "Requirement already satisfied: eth-typing<3.0.0,>=1.0.0 in /srv/conda/envs/notebook/lib/python3.7/site-packages (from eth-utils<2.0.0,>=1.0.0-beta.1->eth_keyfile) (2.1.0)\n",
      "Requirement already satisfied: eth-hash<1.0.0,>=0.1.0 in /srv/conda/envs/notebook/lib/python3.7/site-packages (from eth-utils<2.0.0,>=1.0.0-beta.1->eth_keyfile) (0.2.0)\n"
     ]
    }
   ],
   "source": [
    "!pip install etherdelta\n",
    "!pip install eth_utils\n",
    "!pip install eth_account\n",
    "!pip install eth_keys\n",
    "!pip install eth_keyfile\n",
    "#!pip install "
   ]
  },
  {
   "cell_type": "code",
   "execution_count": 32,
   "metadata": {},
   "outputs": [
    {
     "ename": "NameError",
     "evalue": "name 'etherdelta' is not defined",
     "output_type": "error",
     "traceback": [
      "\u001b[0;31m---------------------------------------------------------------------------\u001b[0m",
      "\u001b[0;31mNameError\u001b[0m                                 Traceback (most recent call last)",
      "\u001b[0;32m<ipython-input-32-bcfcd4826657>\u001b[0m in \u001b[0;36m<module>\u001b[0;34m\u001b[0m\n\u001b[0;32m----> 1\u001b[0;31m \u001b[0mclient\u001b[0m \u001b[0;34m=\u001b[0m \u001b[0metherdelta\u001b[0m\u001b[0;34m.\u001b[0m\u001b[0mClient\u001b[0m\u001b[0;34m(\u001b[0m\u001b[0;34m)\u001b[0m\u001b[0;34m\u001b[0m\u001b[0;34m\u001b[0m\u001b[0m\n\u001b[0m\u001b[1;32m      2\u001b[0m \u001b[0mtoken_addr\u001b[0m \u001b[0;34m=\u001b[0m \u001b[0;34m'0x0d8775f648430679a709e98d2b0cb6250d2887ef'\u001b[0m\u001b[0;34m\u001b[0m\u001b[0;34m\u001b[0m\u001b[0m\n\u001b[1;32m      3\u001b[0m \u001b[0morders\u001b[0m \u001b[0;34m=\u001b[0m \u001b[0mclient\u001b[0m\u001b[0;34m.\u001b[0m\u001b[0mget_orderbook\u001b[0m\u001b[0;34m(\u001b[0m\u001b[0mtoken_addr\u001b[0m\u001b[0;34m)\u001b[0m\u001b[0;34m\u001b[0m\u001b[0;34m\u001b[0m\u001b[0m\n\u001b[1;32m      4\u001b[0m \u001b[0mprint\u001b[0m\u001b[0;34m(\u001b[0m\u001b[0morders\u001b[0m\u001b[0;34m)\u001b[0m\u001b[0;34m\u001b[0m\u001b[0;34m\u001b[0m\u001b[0m\n\u001b[1;32m      5\u001b[0m \u001b[0;31m# {'buys': [{'s': '0x36728e74f49ed1ef7f85e603c8ea4b149f5c427b9f0bfc6bc072ad780486dd7b', 'user': '0x0f8aa39a58adcc3df98d826ac798ab837cc0833c', 'ethAvailableVolume': '6755.671999999999', 'amount': '6755671999999999213568', 'availableVolumeBase': '2876979662150982000', 'tokenGive': '0x0000000000000000000000000000000000000000', 'expires': '5019005', 'amountFilled': None, 'updated': '2018-02-02T19:42:59.089Z', 'nonce': '4500026492', 'id': '9f365bafc972b2e21ed52569075647c4778385c0ce9283cb16630df78ed99f72_buy', 'availableVolume': '6.755671999999999213568e+21', 'r': '0xa3ca2a8fb3773271b073bc45a1b81138d8bf95c82ca877bf407ec3250a934b2a', 'tokenGet': '0x0d8775f648430679a709e98d2b0cb6250d2887ef', 'amountGet': '6755671999999999213568', 'v': 28, 'price': '0.00042586135948444247', 'ethAvailableVolumeBase': '2.876979662150982', 'amountGive': '2876979662150982144'}}\u001b[0m\u001b[0;34m\u001b[0m\u001b[0;34m\u001b[0m\u001b[0;34m\u001b[0m\u001b[0m\n",
      "\u001b[0;31mNameError\u001b[0m: name 'etherdelta' is not defined"
     ]
    }
   ],
   "source": [
    "client = etherdelta.Client()\n",
    "token_addr = '0x0d8775f648430679a709e98d2b0cb6250d2887ef'\n",
    "orders = client.get_orderbook(token_addr)\n",
    "print(orders)\n",
    "# {'buys': [{'s': '0x36728e74f49ed1ef7f85e603c8ea4b149f5c427b9f0bfc6bc072ad780486dd7b', 'user': '0x0f8aa39a58adcc3df98d826ac798ab837cc0833c', 'ethAvailableVolume': '6755.671999999999', 'amount': '6755671999999999213568', 'availableVolumeBase': '2876979662150982000', 'tokenGive': '0x0000000000000000000000000000000000000000', 'expires': '5019005', 'amountFilled': None, 'updated': '2018-02-02T19:42:59.089Z', 'nonce': '4500026492', 'id': '9f365bafc972b2e21ed52569075647c4778385c0ce9283cb16630df78ed99f72_buy', 'availableVolume': '6.755671999999999213568e+21', 'r': '0xa3ca2a8fb3773271b073bc45a1b81138d8bf95c82ca877bf407ec3250a934b2a', 'tokenGet': '0x0d8775f648430679a709e98d2b0cb6250d2887ef', 'amountGet': '6755671999999999213568', 'v': 28, 'price': '0.00042586135948444247', 'ethAvailableVolumeBase': '2.876979662150982', 'amountGive': '2876979662150982144'}}"
   ]
  },
  {
   "cell_type": "code",
   "execution_count": 31,
   "metadata": {},
   "outputs": [
    {
     "ename": "ImportError",
     "evalue": "cannot import name 'clamp' from 'eth_utils' (/srv/conda/envs/notebook/lib/python3.7/site-packages/eth_utils/__init__.py)",
     "output_type": "error",
     "traceback": [
      "\u001b[0;31m---------------------------------------------------------------------------\u001b[0m",
      "\u001b[0;31mImportError\u001b[0m                               Traceback (most recent call last)",
      "\u001b[0;32m<ipython-input-31-641b21c60a77>\u001b[0m in \u001b[0;36m<module>\u001b[0;34m\u001b[0m\n\u001b[1;32m      1\u001b[0m \u001b[0;32mimport\u001b[0m \u001b[0meth_utils\u001b[0m\u001b[0;34m\u001b[0m\u001b[0;34m\u001b[0m\u001b[0m\n\u001b[0;32m----> 2\u001b[0;31m \u001b[0;32mimport\u001b[0m \u001b[0meth_account\u001b[0m\u001b[0;34m\u001b[0m\u001b[0;34m\u001b[0m\u001b[0m\n\u001b[0m\u001b[1;32m      3\u001b[0m \u001b[0;32mimport\u001b[0m \u001b[0meth_keys\u001b[0m\u001b[0;34m\u001b[0m\u001b[0;34m\u001b[0m\u001b[0m\n\u001b[1;32m      4\u001b[0m \u001b[0;32mimport\u001b[0m \u001b[0meth_keyfile\u001b[0m\u001b[0;34m\u001b[0m\u001b[0;34m\u001b[0m\u001b[0m\n",
      "\u001b[0;32m/srv/conda/envs/notebook/lib/python3.7/site-packages/eth_account/__init__.py\u001b[0m in \u001b[0;36m<module>\u001b[0;34m\u001b[0m\n\u001b[0;32m----> 1\u001b[0;31m from eth_account.account import (  # noqa: F401\n\u001b[0m\u001b[1;32m      2\u001b[0m     \u001b[0mAccount\u001b[0m\u001b[0;34m,\u001b[0m\u001b[0;34m\u001b[0m\u001b[0;34m\u001b[0m\u001b[0m\n\u001b[1;32m      3\u001b[0m )\n",
      "\u001b[0;32m/srv/conda/envs/notebook/lib/python3.7/site-packages/eth_account/account.py\u001b[0m in \u001b[0;36m<module>\u001b[0;34m\u001b[0m\n\u001b[1;32m     20\u001b[0m     \u001b[0mValidationError\u001b[0m\u001b[0;34m,\u001b[0m\u001b[0;34m\u001b[0m\u001b[0;34m\u001b[0m\u001b[0m\n\u001b[1;32m     21\u001b[0m )\n\u001b[0;32m---> 22\u001b[0;31m from eth_utils.curried import (\n\u001b[0m\u001b[1;32m     23\u001b[0m     \u001b[0mcombomethod\u001b[0m\u001b[0;34m,\u001b[0m\u001b[0;34m\u001b[0m\u001b[0;34m\u001b[0m\u001b[0m\n\u001b[1;32m     24\u001b[0m     \u001b[0mhexstr_if_str\u001b[0m\u001b[0;34m,\u001b[0m\u001b[0;34m\u001b[0m\u001b[0;34m\u001b[0m\u001b[0m\n",
      "\u001b[0;32m/srv/conda/envs/notebook/lib/python3.7/site-packages/eth_utils/curried/__init__.py\u001b[0m in \u001b[0;36m<module>\u001b[0;34m\u001b[0m\n\u001b[1;32m      2\u001b[0m \u001b[0;32mfrom\u001b[0m \u001b[0meth_utils\u001b[0m\u001b[0;34m.\u001b[0m\u001b[0mtoolz\u001b[0m \u001b[0;32mimport\u001b[0m \u001b[0mcurry\u001b[0m\u001b[0;34m\u001b[0m\u001b[0;34m\u001b[0m\u001b[0m\n\u001b[1;32m      3\u001b[0m \u001b[0;34m\u001b[0m\u001b[0m\n\u001b[0;32m----> 4\u001b[0;31m from eth_utils import (\n\u001b[0m\u001b[1;32m      5\u001b[0m     \u001b[0madd_0x_prefix\u001b[0m\u001b[0;34m,\u001b[0m\u001b[0;34m\u001b[0m\u001b[0;34m\u001b[0m\u001b[0m\n\u001b[1;32m      6\u001b[0m     \u001b[0mapply_formatter_at_index\u001b[0m\u001b[0;34m,\u001b[0m\u001b[0;34m\u001b[0m\u001b[0;34m\u001b[0m\u001b[0m\n",
      "\u001b[0;31mImportError\u001b[0m: cannot import name 'clamp' from 'eth_utils' (/srv/conda/envs/notebook/lib/python3.7/site-packages/eth_utils/__init__.py)"
     ]
    }
   ],
   "source": [
    "import eth_utils\n",
    "import eth_account\n",
    "import eth_keys\n",
    "import eth_keyfile"
   ]
  },
  {
   "cell_type": "code",
   "execution_count": null,
   "metadata": {},
   "outputs": [],
   "source": [
    "#import eth_utils\n",
    "\n",
    "import etherdelta\n",
    "\n",
    "# initialize client\n",
    "client = etherdelta.Client()\n",
    "\n",
    "# call methods\n",
    "token_addr = '0x0d8775f648430679a709e98d2b0cb6250d2887ef'\n",
    "orders = client.get_orderbook(token_addr)\n",
    "print(orders)"
   ]
  },
  {
   "cell_type": "code",
   "execution_count": 28,
   "metadata": {},
   "outputs": [
    {
     "ename": "NameError",
     "evalue": "name 'etherdelta' is not defined",
     "output_type": "error",
     "traceback": [
      "\u001b[0;31m---------------------------------------------------------------------------\u001b[0m",
      "\u001b[0;31mNameError\u001b[0m                                 Traceback (most recent call last)",
      "\u001b[0;32m<ipython-input-28-f94cc7eb9701>\u001b[0m in \u001b[0;36m<module>\u001b[0;34m\u001b[0m\n\u001b[0;32m----> 1\u001b[0;31m \u001b[0mclient\u001b[0m \u001b[0;34m=\u001b[0m \u001b[0metherdelta\u001b[0m\u001b[0;34m.\u001b[0m\u001b[0mClient\u001b[0m\u001b[0;34m(\u001b[0m\u001b[0;34m)\u001b[0m\u001b[0;34m\u001b[0m\u001b[0;34m\u001b[0m\u001b[0m\n\u001b[0m\u001b[1;32m      2\u001b[0m \u001b[0mnumber\u001b[0m \u001b[0;34m=\u001b[0m \u001b[0mclient\u001b[0m\u001b[0;34m.\u001b[0m\u001b[0mget_block_number\u001b[0m\u001b[0;34m(\u001b[0m\u001b[0;34m)\u001b[0m\u001b[0;34m\u001b[0m\u001b[0;34m\u001b[0m\u001b[0m\n\u001b[1;32m      3\u001b[0m \u001b[0mprint\u001b[0m\u001b[0;34m(\u001b[0m\u001b[0mnumber\u001b[0m\u001b[0;34m)\u001b[0m \u001b[0;31m# 5018972\u001b[0m\u001b[0;34m\u001b[0m\u001b[0;34m\u001b[0m\u001b[0m\n",
      "\u001b[0;31mNameError\u001b[0m: name 'etherdelta' is not defined"
     ]
    }
   ],
   "source": [
    "client = etherdelta.Client()\n",
    "number = client.get_block_number()\n",
    "print(number) # 5018972"
   ]
  },
  {
   "cell_type": "code",
   "execution_count": 29,
   "metadata": {},
   "outputs": [
    {
     "ename": "NameError",
     "evalue": "name 'etherdelta' is not defined",
     "output_type": "error",
     "traceback": [
      "\u001b[0;31m---------------------------------------------------------------------------\u001b[0m",
      "\u001b[0;31mNameError\u001b[0m                                 Traceback (most recent call last)",
      "\u001b[0;32m<ipython-input-29-ea233618ede4>\u001b[0m in \u001b[0;36m<module>\u001b[0;34m\u001b[0m\n\u001b[0;32m----> 1\u001b[0;31m \u001b[0mclient\u001b[0m \u001b[0;34m=\u001b[0m \u001b[0metherdelta\u001b[0m\u001b[0;34m.\u001b[0m\u001b[0mClient\u001b[0m\u001b[0;34m(\u001b[0m\u001b[0;34m)\u001b[0m\u001b[0;34m\u001b[0m\u001b[0;34m\u001b[0m\u001b[0m\n\u001b[0m\u001b[1;32m      2\u001b[0m \u001b[0msymbol\u001b[0m \u001b[0;34m=\u001b[0m \u001b[0;34m'BAT'\u001b[0m\u001b[0;34m\u001b[0m\u001b[0;34m\u001b[0m\u001b[0m\n\u001b[1;32m      3\u001b[0m \u001b[0mtoken_addr\u001b[0m \u001b[0;34m=\u001b[0m \u001b[0mclient\u001b[0m\u001b[0;34m.\u001b[0m\u001b[0mget_token_address\u001b[0m\u001b[0;34m(\u001b[0m\u001b[0msymbol\u001b[0m\u001b[0;34m)\u001b[0m\u001b[0;34m\u001b[0m\u001b[0;34m\u001b[0m\u001b[0m\n\u001b[1;32m      4\u001b[0m \u001b[0mprint\u001b[0m\u001b[0;34m(\u001b[0m\u001b[0mtoken_addr\u001b[0m\u001b[0;34m)\u001b[0m \u001b[0;31m# 0x0d8775f648430679a709e98d2b0cb6250d2887ef\u001b[0m\u001b[0;34m\u001b[0m\u001b[0;34m\u001b[0m\u001b[0m\n",
      "\u001b[0;31mNameError\u001b[0m: name 'etherdelta' is not defined"
     ]
    }
   ],
   "source": [
    "client = etherdelta.Client()\n",
    "symbol = 'BAT'\n",
    "token_addr = client.get_token_address(symbol)\n",
    "print(token_addr) # 0x0d8775f648430679a709e98d2b0cb6250d2887ef"
   ]
  },
  {
   "cell_type": "code",
   "execution_count": null,
   "metadata": {},
   "outputs": [],
   "source": [
    "import etherdelta"
   ]
  },
  {
   "cell_type": "code",
   "execution_count": 25,
   "metadata": {},
   "outputs": [
    {
     "ename": "ModuleNotFoundError",
     "evalue": "No module named 'eth_utils.typing'",
     "output_type": "error",
     "traceback": [
      "\u001b[0;31m---------------------------------------------------------------------------\u001b[0m",
      "\u001b[0;31mModuleNotFoundError\u001b[0m                       Traceback (most recent call last)",
      "\u001b[0;32m<ipython-input-25-927c89bc33ac>\u001b[0m in \u001b[0;36m<module>\u001b[0;34m\u001b[0m\n\u001b[1;32m      1\u001b[0m \u001b[0;31m# import package\u001b[0m\u001b[0;34m\u001b[0m\u001b[0;34m\u001b[0m\u001b[0;34m\u001b[0m\u001b[0m\n\u001b[0;32m----> 2\u001b[0;31m \u001b[0;32mimport\u001b[0m \u001b[0metherdelta\u001b[0m\u001b[0;34m\u001b[0m\u001b[0;34m\u001b[0m\u001b[0m\n\u001b[0m\u001b[1;32m      3\u001b[0m \u001b[0;34m\u001b[0m\u001b[0m\n\u001b[1;32m      4\u001b[0m \u001b[0;31m# initialize client\u001b[0m\u001b[0;34m\u001b[0m\u001b[0;34m\u001b[0m\u001b[0;34m\u001b[0m\u001b[0m\n\u001b[1;32m      5\u001b[0m \u001b[0mclient\u001b[0m \u001b[0;34m=\u001b[0m \u001b[0metherdelta\u001b[0m\u001b[0;34m.\u001b[0m\u001b[0mClient\u001b[0m\u001b[0;34m(\u001b[0m\u001b[0;34m)\u001b[0m\u001b[0;34m\u001b[0m\u001b[0;34m\u001b[0m\u001b[0m\n",
      "\u001b[0;32m~/etherdelta/__init__.py\u001b[0m in \u001b[0;36m<module>\u001b[0;34m\u001b[0m\n\u001b[1;32m     10\u001b[0m \u001b[0;32mimport\u001b[0m \u001b[0msys\u001b[0m\u001b[0;34m\u001b[0m\u001b[0;34m\u001b[0m\u001b[0m\n\u001b[1;32m     11\u001b[0m \u001b[0;32mimport\u001b[0m \u001b[0mos\u001b[0m\u001b[0;34m\u001b[0m\u001b[0;34m\u001b[0m\u001b[0m\n\u001b[0;32m---> 12\u001b[0;31m \u001b[0;32mimport\u001b[0m \u001b[0mweb3\u001b[0m\u001b[0;34m\u001b[0m\u001b[0;34m\u001b[0m\u001b[0m\n\u001b[0m\u001b[1;32m     13\u001b[0m \u001b[0;32mfrom\u001b[0m \u001b[0mweb3\u001b[0m \u001b[0;32mimport\u001b[0m \u001b[0mWeb3\u001b[0m\u001b[0;34m,\u001b[0m \u001b[0mHTTPProvider\u001b[0m\u001b[0;34m\u001b[0m\u001b[0;34m\u001b[0m\u001b[0m\n\u001b[1;32m     14\u001b[0m \u001b[0;32mfrom\u001b[0m \u001b[0moperator\u001b[0m \u001b[0;32mimport\u001b[0m \u001b[0mitemgetter\u001b[0m\u001b[0;34m\u001b[0m\u001b[0;34m\u001b[0m\u001b[0m\n",
      "\u001b[0;32m/srv/conda/envs/notebook/lib/python3.7/site-packages/web3/__init__.py\u001b[0m in \u001b[0;36m<module>\u001b[0;34m\u001b[0m\n\u001b[1;32m      5\u001b[0m     \u001b[0;32mraise\u001b[0m \u001b[0mEnvironmentError\u001b[0m\u001b[0;34m(\u001b[0m\u001b[0;34m\"Python 3.5 or above is required\"\u001b[0m\u001b[0;34m)\u001b[0m\u001b[0;34m\u001b[0m\u001b[0;34m\u001b[0m\u001b[0m\n\u001b[1;32m      6\u001b[0m \u001b[0;34m\u001b[0m\u001b[0m\n\u001b[0;32m----> 7\u001b[0;31m \u001b[0;32mfrom\u001b[0m \u001b[0meth_account\u001b[0m \u001b[0;32mimport\u001b[0m \u001b[0mAccount\u001b[0m  \u001b[0;31m# noqa: E402\u001b[0m\u001b[0;34m\u001b[0m\u001b[0;34m\u001b[0m\u001b[0m\n\u001b[0m\u001b[1;32m      8\u001b[0m \u001b[0;32mfrom\u001b[0m \u001b[0mweb3\u001b[0m\u001b[0;34m.\u001b[0m\u001b[0mmain\u001b[0m \u001b[0;32mimport\u001b[0m \u001b[0mWeb3\u001b[0m  \u001b[0;31m# noqa: E402\u001b[0m\u001b[0;34m\u001b[0m\u001b[0;34m\u001b[0m\u001b[0m\n\u001b[1;32m      9\u001b[0m from web3.providers.rpc import (  # noqa: E402\n",
      "\u001b[0;32m/srv/conda/envs/notebook/lib/python3.7/site-packages/eth_account/__init__.py\u001b[0m in \u001b[0;36m<module>\u001b[0;34m\u001b[0m\n\u001b[0;32m----> 1\u001b[0;31m from eth_account.account import (  # noqa: F401\n\u001b[0m\u001b[1;32m      2\u001b[0m     \u001b[0mAccount\u001b[0m\u001b[0;34m,\u001b[0m\u001b[0;34m\u001b[0m\u001b[0;34m\u001b[0m\u001b[0m\n\u001b[1;32m      3\u001b[0m )\n",
      "\u001b[0;32m/srv/conda/envs/notebook/lib/python3.7/site-packages/eth_account/account.py\u001b[0m in \u001b[0;36m<module>\u001b[0;34m\u001b[0m\n\u001b[1;32m      9\u001b[0m     \u001b[0mdissoc\u001b[0m\u001b[0;34m,\u001b[0m\u001b[0;34m\u001b[0m\u001b[0;34m\u001b[0m\u001b[0m\n\u001b[1;32m     10\u001b[0m )\n\u001b[0;32m---> 11\u001b[0;31m from eth_keyfile import (\n\u001b[0m\u001b[1;32m     12\u001b[0m     \u001b[0mcreate_keyfile_json\u001b[0m\u001b[0;34m,\u001b[0m\u001b[0;34m\u001b[0m\u001b[0;34m\u001b[0m\u001b[0m\n\u001b[1;32m     13\u001b[0m     \u001b[0mdecode_keyfile_json\u001b[0m\u001b[0;34m,\u001b[0m\u001b[0;34m\u001b[0m\u001b[0;34m\u001b[0m\u001b[0m\n",
      "\u001b[0;32m/srv/conda/envs/notebook/lib/python3.7/site-packages/eth_keyfile/__init__.py\u001b[0m in \u001b[0;36m<module>\u001b[0;34m\u001b[0m\n\u001b[1;32m      5\u001b[0m \u001b[0;32mimport\u001b[0m \u001b[0msys\u001b[0m\u001b[0;34m\u001b[0m\u001b[0;34m\u001b[0m\u001b[0m\n\u001b[1;32m      6\u001b[0m \u001b[0;34m\u001b[0m\u001b[0m\n\u001b[0;32m----> 7\u001b[0;31m from eth_keyfile.keyfile import (  # noqa: F401\n\u001b[0m\u001b[1;32m      8\u001b[0m     \u001b[0mload_keyfile\u001b[0m\u001b[0;34m,\u001b[0m\u001b[0;34m\u001b[0m\u001b[0;34m\u001b[0m\u001b[0m\n\u001b[1;32m      9\u001b[0m     \u001b[0mcreate_keyfile_json\u001b[0m\u001b[0;34m,\u001b[0m\u001b[0;34m\u001b[0m\u001b[0;34m\u001b[0m\u001b[0m\n",
      "\u001b[0;32m/srv/conda/envs/notebook/lib/python3.7/site-packages/eth_keyfile/keyfile.py\u001b[0m in \u001b[0;36m<module>\u001b[0;34m\u001b[0m\n\u001b[1;32m      8\u001b[0m \u001b[0;32mfrom\u001b[0m \u001b[0mCrypto\u001b[0m\u001b[0;34m.\u001b[0m\u001b[0mUtil\u001b[0m \u001b[0;32mimport\u001b[0m \u001b[0mCounter\u001b[0m\u001b[0;34m\u001b[0m\u001b[0;34m\u001b[0m\u001b[0m\n\u001b[1;32m      9\u001b[0m \u001b[0;34m\u001b[0m\u001b[0m\n\u001b[0;32m---> 10\u001b[0;31m \u001b[0;32mfrom\u001b[0m \u001b[0meth_keys\u001b[0m \u001b[0;32mimport\u001b[0m \u001b[0mkeys\u001b[0m\u001b[0;34m\u001b[0m\u001b[0;34m\u001b[0m\u001b[0m\n\u001b[0m\u001b[1;32m     11\u001b[0m \u001b[0;34m\u001b[0m\u001b[0m\n\u001b[1;32m     12\u001b[0m from eth_utils import (\n",
      "\u001b[0;32m/srv/conda/envs/notebook/lib/python3.7/site-packages/eth_keys/__init__.py\u001b[0m in \u001b[0;36m<module>\u001b[0;34m\u001b[0m\n\u001b[1;32m     13\u001b[0m \u001b[0;34m\u001b[0m\u001b[0m\n\u001b[1;32m     14\u001b[0m \u001b[0;34m\u001b[0m\u001b[0m\n\u001b[0;32m---> 15\u001b[0;31m from .main import (  # noqa: F401\n\u001b[0m\u001b[1;32m     16\u001b[0m     \u001b[0mKeyAPI\u001b[0m\u001b[0;34m,\u001b[0m\u001b[0;34m\u001b[0m\u001b[0;34m\u001b[0m\u001b[0m\n\u001b[1;32m     17\u001b[0m     \u001b[0mlazy_key_api\u001b[0m \u001b[0;32mas\u001b[0m \u001b[0mkeys\u001b[0m\u001b[0;34m,\u001b[0m\u001b[0;34m\u001b[0m\u001b[0;34m\u001b[0m\u001b[0m\n",
      "\u001b[0;32m/srv/conda/envs/notebook/lib/python3.7/site-packages/eth_keys/main.py\u001b[0m in \u001b[0;36m<module>\u001b[0;34m\u001b[0m\n\u001b[1;32m      1\u001b[0m \u001b[0;32mfrom\u001b[0m \u001b[0mtyping\u001b[0m \u001b[0;32mimport\u001b[0m \u001b[0;34m(\u001b[0m\u001b[0mAny\u001b[0m\u001b[0;34m,\u001b[0m \u001b[0mUnion\u001b[0m\u001b[0;34m,\u001b[0m \u001b[0mType\u001b[0m\u001b[0;34m)\u001b[0m  \u001b[0;31m# noqa: F401\u001b[0m\u001b[0;34m\u001b[0m\u001b[0;34m\u001b[0m\u001b[0m\n\u001b[1;32m      2\u001b[0m \u001b[0;34m\u001b[0m\u001b[0m\n\u001b[0;32m----> 3\u001b[0;31m from eth_keys.datatypes import (\n\u001b[0m\u001b[1;32m      4\u001b[0m     \u001b[0mBaseSignature\u001b[0m\u001b[0;34m,\u001b[0m\u001b[0;34m\u001b[0m\u001b[0;34m\u001b[0m\u001b[0m\n\u001b[1;32m      5\u001b[0m     \u001b[0mLazyBackend\u001b[0m\u001b[0;34m,\u001b[0m\u001b[0;34m\u001b[0m\u001b[0;34m\u001b[0m\u001b[0m\n",
      "\u001b[0;32m/srv/conda/envs/notebook/lib/python3.7/site-packages/eth_keys/datatypes.py\u001b[0m in \u001b[0;36m<module>\u001b[0;34m\u001b[0m\n\u001b[1;32m     26\u001b[0m     \u001b[0mto_normalized_address\u001b[0m\u001b[0;34m,\u001b[0m\u001b[0;34m\u001b[0m\u001b[0;34m\u001b[0m\u001b[0m\n\u001b[1;32m     27\u001b[0m )\n\u001b[0;32m---> 28\u001b[0;31m from eth_utils.typing import (\n\u001b[0m\u001b[1;32m     29\u001b[0m     \u001b[0mChecksumAddress\u001b[0m\u001b[0;34m,\u001b[0m\u001b[0;34m\u001b[0m\u001b[0;34m\u001b[0m\u001b[0m\n\u001b[1;32m     30\u001b[0m )\n",
      "\u001b[0;31mModuleNotFoundError\u001b[0m: No module named 'eth_utils.typing'"
     ]
    }
   ],
   "source": [
    "# import package\n",
    "import etherdelta\n",
    "\n",
    "# initialize client\n",
    "client = etherdelta.Client()\n",
    "\n",
    "# call methods\n",
    "token_addr = '0x0d8775f648430679a709e98d2b0cb6250d2887ef'\n",
    "orders = client.get_orderbook(token_addr)\n",
    "print(orders)"
   ]
  },
  {
   "cell_type": "code",
   "execution_count": null,
   "metadata": {},
   "outputs": [],
   "source": []
  },
  {
   "cell_type": "code",
   "execution_count": 27,
   "metadata": {},
   "outputs": [
    {
     "ename": "ModuleNotFoundError",
     "evalue": "No module named 'eth_utils.typing'",
     "output_type": "error",
     "traceback": [
      "\u001b[0;31m---------------------------------------------------------------------------\u001b[0m",
      "\u001b[0;31mModuleNotFoundError\u001b[0m                       Traceback (most recent call last)",
      "\u001b[0;32m<ipython-input-27-e370fa4c9797>\u001b[0m in \u001b[0;36m<module>\u001b[0;34m\u001b[0m\n\u001b[0;32m----> 1\u001b[0;31m \u001b[0;32mimport\u001b[0m \u001b[0metherdelta\u001b[0m\u001b[0;34m\u001b[0m\u001b[0;34m\u001b[0m\u001b[0m\n\u001b[0m\u001b[1;32m      2\u001b[0m \u001b[0;31m#client = etherdelta.Client()\u001b[0m\u001b[0;34m\u001b[0m\u001b[0;34m\u001b[0m\u001b[0;34m\u001b[0m\u001b[0m\n\u001b[1;32m      3\u001b[0m \u001b[0mclient\u001b[0m \u001b[0;34m=\u001b[0m \u001b[0metherdelta\u001b[0m\u001b[0;34m.\u001b[0m\u001b[0mClient\u001b[0m\u001b[0;34m(\u001b[0m\u001b[0;34m)\u001b[0m\u001b[0;34m\u001b[0m\u001b[0;34m\u001b[0m\u001b[0m\n\u001b[1;32m      4\u001b[0m \u001b[0maccount\u001b[0m \u001b[0;34m=\u001b[0m \u001b[0;34m'0x85E4B84D784eE9eEB7489F0B0c66B343AF2a0BE5'\u001b[0m\u001b[0;34m\u001b[0m\u001b[0;34m\u001b[0m\u001b[0m\n\u001b[1;32m      5\u001b[0m \u001b[0mbal\u001b[0m \u001b[0;34m=\u001b[0m \u001b[0mclient\u001b[0m\u001b[0;34m.\u001b[0m\u001b[0mget_etherdelta_eth_balance\u001b[0m\u001b[0;34m(\u001b[0m\u001b[0maccount\u001b[0m\u001b[0;34m)\u001b[0m\u001b[0;34m\u001b[0m\u001b[0;34m\u001b[0m\u001b[0m\n",
      "\u001b[0;32m~/etherdelta/__init__.py\u001b[0m in \u001b[0;36m<module>\u001b[0;34m\u001b[0m\n\u001b[1;32m     10\u001b[0m \u001b[0;32mimport\u001b[0m \u001b[0msys\u001b[0m\u001b[0;34m\u001b[0m\u001b[0;34m\u001b[0m\u001b[0m\n\u001b[1;32m     11\u001b[0m \u001b[0;32mimport\u001b[0m \u001b[0mos\u001b[0m\u001b[0;34m\u001b[0m\u001b[0;34m\u001b[0m\u001b[0m\n\u001b[0;32m---> 12\u001b[0;31m \u001b[0;32mimport\u001b[0m \u001b[0mweb3\u001b[0m\u001b[0;34m\u001b[0m\u001b[0;34m\u001b[0m\u001b[0m\n\u001b[0m\u001b[1;32m     13\u001b[0m \u001b[0;32mfrom\u001b[0m \u001b[0mweb3\u001b[0m \u001b[0;32mimport\u001b[0m \u001b[0mWeb3\u001b[0m\u001b[0;34m,\u001b[0m \u001b[0mHTTPProvider\u001b[0m\u001b[0;34m\u001b[0m\u001b[0;34m\u001b[0m\u001b[0m\n\u001b[1;32m     14\u001b[0m \u001b[0;32mfrom\u001b[0m \u001b[0moperator\u001b[0m \u001b[0;32mimport\u001b[0m \u001b[0mitemgetter\u001b[0m\u001b[0;34m\u001b[0m\u001b[0;34m\u001b[0m\u001b[0m\n",
      "\u001b[0;32m/srv/conda/envs/notebook/lib/python3.7/site-packages/web3/__init__.py\u001b[0m in \u001b[0;36m<module>\u001b[0;34m\u001b[0m\n\u001b[1;32m      5\u001b[0m     \u001b[0;32mraise\u001b[0m \u001b[0mEnvironmentError\u001b[0m\u001b[0;34m(\u001b[0m\u001b[0;34m\"Python 3.5 or above is required\"\u001b[0m\u001b[0;34m)\u001b[0m\u001b[0;34m\u001b[0m\u001b[0;34m\u001b[0m\u001b[0m\n\u001b[1;32m      6\u001b[0m \u001b[0;34m\u001b[0m\u001b[0m\n\u001b[0;32m----> 7\u001b[0;31m \u001b[0;32mfrom\u001b[0m \u001b[0meth_account\u001b[0m \u001b[0;32mimport\u001b[0m \u001b[0mAccount\u001b[0m  \u001b[0;31m# noqa: E402\u001b[0m\u001b[0;34m\u001b[0m\u001b[0;34m\u001b[0m\u001b[0m\n\u001b[0m\u001b[1;32m      8\u001b[0m \u001b[0;32mfrom\u001b[0m \u001b[0mweb3\u001b[0m\u001b[0;34m.\u001b[0m\u001b[0mmain\u001b[0m \u001b[0;32mimport\u001b[0m \u001b[0mWeb3\u001b[0m  \u001b[0;31m# noqa: E402\u001b[0m\u001b[0;34m\u001b[0m\u001b[0;34m\u001b[0m\u001b[0m\n\u001b[1;32m      9\u001b[0m from web3.providers.rpc import (  # noqa: E402\n",
      "\u001b[0;32m/srv/conda/envs/notebook/lib/python3.7/site-packages/eth_account/__init__.py\u001b[0m in \u001b[0;36m<module>\u001b[0;34m\u001b[0m\n\u001b[0;32m----> 1\u001b[0;31m from eth_account.account import (  # noqa: F401\n\u001b[0m\u001b[1;32m      2\u001b[0m     \u001b[0mAccount\u001b[0m\u001b[0;34m,\u001b[0m\u001b[0;34m\u001b[0m\u001b[0;34m\u001b[0m\u001b[0m\n\u001b[1;32m      3\u001b[0m )\n",
      "\u001b[0;32m/srv/conda/envs/notebook/lib/python3.7/site-packages/eth_account/account.py\u001b[0m in \u001b[0;36m<module>\u001b[0;34m\u001b[0m\n\u001b[1;32m      9\u001b[0m     \u001b[0mdissoc\u001b[0m\u001b[0;34m,\u001b[0m\u001b[0;34m\u001b[0m\u001b[0;34m\u001b[0m\u001b[0m\n\u001b[1;32m     10\u001b[0m )\n\u001b[0;32m---> 11\u001b[0;31m from eth_keyfile import (\n\u001b[0m\u001b[1;32m     12\u001b[0m     \u001b[0mcreate_keyfile_json\u001b[0m\u001b[0;34m,\u001b[0m\u001b[0;34m\u001b[0m\u001b[0;34m\u001b[0m\u001b[0m\n\u001b[1;32m     13\u001b[0m     \u001b[0mdecode_keyfile_json\u001b[0m\u001b[0;34m,\u001b[0m\u001b[0;34m\u001b[0m\u001b[0;34m\u001b[0m\u001b[0m\n",
      "\u001b[0;32m/srv/conda/envs/notebook/lib/python3.7/site-packages/eth_keyfile/__init__.py\u001b[0m in \u001b[0;36m<module>\u001b[0;34m\u001b[0m\n\u001b[1;32m      5\u001b[0m \u001b[0;32mimport\u001b[0m \u001b[0msys\u001b[0m\u001b[0;34m\u001b[0m\u001b[0;34m\u001b[0m\u001b[0m\n\u001b[1;32m      6\u001b[0m \u001b[0;34m\u001b[0m\u001b[0m\n\u001b[0;32m----> 7\u001b[0;31m from eth_keyfile.keyfile import (  # noqa: F401\n\u001b[0m\u001b[1;32m      8\u001b[0m     \u001b[0mload_keyfile\u001b[0m\u001b[0;34m,\u001b[0m\u001b[0;34m\u001b[0m\u001b[0;34m\u001b[0m\u001b[0m\n\u001b[1;32m      9\u001b[0m     \u001b[0mcreate_keyfile_json\u001b[0m\u001b[0;34m,\u001b[0m\u001b[0;34m\u001b[0m\u001b[0;34m\u001b[0m\u001b[0m\n",
      "\u001b[0;32m/srv/conda/envs/notebook/lib/python3.7/site-packages/eth_keyfile/keyfile.py\u001b[0m in \u001b[0;36m<module>\u001b[0;34m\u001b[0m\n\u001b[1;32m      8\u001b[0m \u001b[0;32mfrom\u001b[0m \u001b[0mCrypto\u001b[0m\u001b[0;34m.\u001b[0m\u001b[0mUtil\u001b[0m \u001b[0;32mimport\u001b[0m \u001b[0mCounter\u001b[0m\u001b[0;34m\u001b[0m\u001b[0;34m\u001b[0m\u001b[0m\n\u001b[1;32m      9\u001b[0m \u001b[0;34m\u001b[0m\u001b[0m\n\u001b[0;32m---> 10\u001b[0;31m \u001b[0;32mfrom\u001b[0m \u001b[0meth_keys\u001b[0m \u001b[0;32mimport\u001b[0m \u001b[0mkeys\u001b[0m\u001b[0;34m\u001b[0m\u001b[0;34m\u001b[0m\u001b[0m\n\u001b[0m\u001b[1;32m     11\u001b[0m \u001b[0;34m\u001b[0m\u001b[0m\n\u001b[1;32m     12\u001b[0m from eth_utils import (\n",
      "\u001b[0;32m/srv/conda/envs/notebook/lib/python3.7/site-packages/eth_keys/__init__.py\u001b[0m in \u001b[0;36m<module>\u001b[0;34m\u001b[0m\n\u001b[1;32m     13\u001b[0m \u001b[0;34m\u001b[0m\u001b[0m\n\u001b[1;32m     14\u001b[0m \u001b[0;34m\u001b[0m\u001b[0m\n\u001b[0;32m---> 15\u001b[0;31m from .main import (  # noqa: F401\n\u001b[0m\u001b[1;32m     16\u001b[0m     \u001b[0mKeyAPI\u001b[0m\u001b[0;34m,\u001b[0m\u001b[0;34m\u001b[0m\u001b[0;34m\u001b[0m\u001b[0m\n\u001b[1;32m     17\u001b[0m     \u001b[0mlazy_key_api\u001b[0m \u001b[0;32mas\u001b[0m \u001b[0mkeys\u001b[0m\u001b[0;34m,\u001b[0m\u001b[0;34m\u001b[0m\u001b[0;34m\u001b[0m\u001b[0m\n",
      "\u001b[0;32m/srv/conda/envs/notebook/lib/python3.7/site-packages/eth_keys/main.py\u001b[0m in \u001b[0;36m<module>\u001b[0;34m\u001b[0m\n\u001b[1;32m      1\u001b[0m \u001b[0;32mfrom\u001b[0m \u001b[0mtyping\u001b[0m \u001b[0;32mimport\u001b[0m \u001b[0;34m(\u001b[0m\u001b[0mAny\u001b[0m\u001b[0;34m,\u001b[0m \u001b[0mUnion\u001b[0m\u001b[0;34m,\u001b[0m \u001b[0mType\u001b[0m\u001b[0;34m)\u001b[0m  \u001b[0;31m# noqa: F401\u001b[0m\u001b[0;34m\u001b[0m\u001b[0;34m\u001b[0m\u001b[0m\n\u001b[1;32m      2\u001b[0m \u001b[0;34m\u001b[0m\u001b[0m\n\u001b[0;32m----> 3\u001b[0;31m from eth_keys.datatypes import (\n\u001b[0m\u001b[1;32m      4\u001b[0m     \u001b[0mBaseSignature\u001b[0m\u001b[0;34m,\u001b[0m\u001b[0;34m\u001b[0m\u001b[0;34m\u001b[0m\u001b[0m\n\u001b[1;32m      5\u001b[0m     \u001b[0mLazyBackend\u001b[0m\u001b[0;34m,\u001b[0m\u001b[0;34m\u001b[0m\u001b[0;34m\u001b[0m\u001b[0m\n",
      "\u001b[0;32m/srv/conda/envs/notebook/lib/python3.7/site-packages/eth_keys/datatypes.py\u001b[0m in \u001b[0;36m<module>\u001b[0;34m\u001b[0m\n\u001b[1;32m     26\u001b[0m     \u001b[0mto_normalized_address\u001b[0m\u001b[0;34m,\u001b[0m\u001b[0;34m\u001b[0m\u001b[0;34m\u001b[0m\u001b[0m\n\u001b[1;32m     27\u001b[0m )\n\u001b[0;32m---> 28\u001b[0;31m from eth_utils.typing import (\n\u001b[0m\u001b[1;32m     29\u001b[0m     \u001b[0mChecksumAddress\u001b[0m\u001b[0;34m,\u001b[0m\u001b[0;34m\u001b[0m\u001b[0;34m\u001b[0m\u001b[0m\n\u001b[1;32m     30\u001b[0m )\n",
      "\u001b[0;31mModuleNotFoundError\u001b[0m: No module named 'eth_utils.typing'"
     ]
    }
   ],
   "source": [
    "import etherdelta\n",
    "#client = etherdelta.Client()\n",
    "client = etherdelta.Client()\n",
    "account = '0x85E4B84D784eE9eEB7489F0B0c66B343AF2a0BE5'\n",
    "bal = client.get_etherdelta_eth_balance(account)\n",
    "print(bal) # 0.060271757614136072"
   ]
  },
  {
   "cell_type": "code",
   "execution_count": null,
   "metadata": {},
   "outputs": [],
   "source": []
  }
 ],
 "metadata": {
  "kernelspec": {
   "display_name": "Python 3",
   "language": "python",
   "name": "python3"
  },
  "language_info": {
   "codemirror_mode": {
    "name": "ipython",
    "version": 3
   },
   "file_extension": ".py",
   "mimetype": "text/x-python",
   "name": "python",
   "nbconvert_exporter": "python",
   "pygments_lexer": "ipython3",
   "version": "3.7.3"
  }
 },
 "nbformat": 4,
 "nbformat_minor": 2
}
